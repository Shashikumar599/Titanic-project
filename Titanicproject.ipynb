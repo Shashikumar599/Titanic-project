{
 "cells": [
  {
   "cell_type": "markdown",
   "metadata": {
    "id": "5kbxbomBtLEL"
   },
   "source": [
    "# Import Libraries"
   ]
  },
  {
   "cell_type": "code",
   "execution_count": 62,
   "metadata": {
    "id": "Hd-kDuZGtJXd"
   },
   "outputs": [],
   "source": [
    "import numpy as np\n",
    "import matplotlib.pyplot as plt\n",
    "import pandas as pd"
   ]
  },
  {
   "cell_type": "markdown",
   "metadata": {
    "id": "sI8DuyWuuQvV"
   },
   "source": [
    "# Import dataset"
   ]
  },
  {
   "cell_type": "code",
   "execution_count": 63,
   "metadata": {
    "colab": {
     "base_uri": "https://localhost:8080/"
    },
    "id": "ksjls69SuXJR",
    "outputId": "d76ab214-9774-4bd8-889b-2a2f7989028e"
   },
   "outputs": [
    {
     "name": "stdout",
     "output_type": "stream",
     "text": [
      "[7.8292 3 'male' 34.5 0 0]\n",
      "[7.25 3 'male' 22.0 1 0]\n",
      "0       892\n",
      "1       893\n",
      "2       894\n",
      "3       895\n",
      "4       896\n",
      "       ... \n",
      "413    1305\n",
      "414    1306\n",
      "415    1307\n",
      "416    1308\n",
      "417    1309\n",
      "Name: PassengerId, Length: 418, dtype: int64\n"
     ]
    }
   ],
   "source": [
    "dataset=pd.read_csv('train.csv')\n",
    "dataset2=pd.read_csv('test.csv')\n",
    "# num_missing=(dataset[[2,4,5,6,7,9,11]]==np.nan).sum()\n",
    "# print(num_missing)\n",
    "# print(dataset.head())\n",
    "# print(dataset['Survived'].value_counts())\n",
    "y_train=dataset.iloc[:, 1:2].values\n",
    "#print(y_train)\n",
    "IDtest=dataset2[\"PassengerId\"]\n",
    "X_train=dataset.iloc[:, 4:8].values\n",
    "X_test=dataset2.iloc[:, 3:7].values\n",
    "# print(dataset['Embarked'].value_counts())\n",
    "X_train= np.c_[dataset.iloc[:, 2:3].values,X_train]\n",
    "X_train= np.c_[dataset.iloc[:, 9:10].values,X_train]\n",
    "##\n",
    "X_test= np.c_[dataset2.iloc[:, 1:2].values,X_test]\n",
    "X_test= np.c_[dataset2.iloc[:, 8:9].values,X_test]\n",
    "\n",
    "# X_train= np.c_[dataset.iloc[:, 11:12].values,X_train]\n",
    "# print(np.count_nonzero(X_train[:, 0:1]=='S'))\n",
    "# print(np.count_nonzero(X_train[:, 0:1]=='Q'))\n",
    "# print(np.count_nonzero(X_train[:, 0:1]=='C'))\n",
    "# print(np.count_nonzero(X_train[:, 0:1]==np.NAN))\n",
    "# X_train[:, 0:1].value_counts()\n",
    "# X_train.insert(0, dataset.iloc[:, 2:3].values)\n",
    "# X_train.insert(0, dataset.iloc[:, 9:10].values)\n",
    "# X_train.insert(0, dataset.iloc[:, 11:12].values)\n",
    "print(X_test[0])\n",
    "# print(891-168-77-644)\n",
    "print(X_train[0])\n",
    "print(IDtest)"
   ]
  },
  {
   "cell_type": "markdown",
   "metadata": {
    "id": "OqHy79Mn52RX"
   },
   "source": [
    "# Fill missing data"
   ]
  },
  {
   "cell_type": "code",
   "execution_count": 64,
   "metadata": {
    "colab": {
     "base_uri": "https://localhost:8080/"
    },
    "id": "xXedQuqB57w1",
    "outputId": "9e326df8-8d73-4651-e184-ed6dcf250124"
   },
   "outputs": [
    {
     "name": "stdout",
     "output_type": "stream",
     "text": [
      "[7.8292 3 'male' 34.5 0 0]\n",
      "[7.25 3 'male' 22.0 1 0]\n"
     ]
    }
   ],
   "source": [
    "from sklearn.impute import SimpleImputer\n",
    "imputer =SimpleImputer(missing_values=np.nan, strategy='mean')\n",
    "imputer.fit(X_train[:, 3:4])\n",
    "X_train[:,3:4]=imputer.transform(X_train[:, 3:4])\n",
    "# print(len(X_train[0]))\n",
    "# print(X_train[0])\n",
    "imputer.fit(X_test[:, 3:4])\n",
    "X_test[:,3:4]=imputer.transform(X_test[:, 3:4])\n",
    "imputer.fit(X_test[:, 0:1])\n",
    "X_test[:,0:1]=imputer.transform(X_test[:, 0:1])\n",
    "print(X_test[0])\n",
    "print(X_train[0])"
   ]
  },
  {
   "cell_type": "markdown",
   "metadata": {
    "id": "ok4seYho9FIu"
   },
   "source": [
    " Encoding *Gender*"
   ]
  },
  {
   "cell_type": "code",
   "execution_count": 65,
   "metadata": {
    "colab": {
     "base_uri": "https://localhost:8080/",
     "height": 387
    },
    "id": "EIli6AD09LNe",
    "outputId": "5ff1c0b0-bc98-463b-ad7d-5d6116b0dc44"
   },
   "outputs": [
    {
     "name": "stdout",
     "output_type": "stream",
     "text": [
      "[7.8292 3 1 34.5 0 0]\n",
      "[7.25 3 1 22.0 1 0]\n"
     ]
    }
   ],
   "source": [
    "from sklearn.preprocessing import LabelEncoder\n",
    "le = LabelEncoder()\n",
    "X_train[:, 2] = le.fit_transform(X_train[:, 2])\n",
    "le1 = LabelEncoder()\n",
    "X_test[:, 2] = le1.fit_transform(X_test[:, 2])\n",
    "print(X_test[0])\n",
    "print(X_train[0])"
   ]
  },
  {
   "cell_type": "code",
   "execution_count": 66,
   "metadata": {},
   "outputs": [
    {
     "name": "stdout",
     "output_type": "stream",
     "text": [
      "[[-0.50244517  0.82737724  0.73769513 -0.5924806   0.43279337 -0.47367361]\n",
      " [ 0.78684529 -1.56610693 -1.35557354  0.63878901  0.43279337 -0.47367361]\n",
      " [-0.48885426  0.82737724 -1.35557354 -0.2846632  -0.4745452  -0.47367361]\n",
      " ...\n",
      " [-0.17626324  0.82737724 -1.35557354  0.          0.43279337  2.00893337]\n",
      " [-0.04438104 -1.56610693  0.73769513 -0.2846632  -0.4745452  -0.47367361]\n",
      " [-0.49237783  0.82737724  0.73769513  0.17706291 -0.4745452  -0.47367361]]\n"
     ]
    }
   ],
   "source": [
    "from sklearn.preprocessing import StandardScaler\n",
    "sc=StandardScaler()\n",
    "X_train=sc.fit_transform(X_train)\n",
    "X_test=sc.transform(X_test)\n",
    "print(X_train)\n",
    "# print(X_test)"
   ]
  },
  {
   "cell_type": "code",
   "execution_count": 67,
   "metadata": {},
   "outputs": [
    {
     "name": "stderr",
     "output_type": "stream",
     "text": [
      "C:\\Users\\SHAMMI\\anaconda3\\lib\\site-packages\\sklearn\\utils\\validation.py:72: DataConversionWarning: A column-vector y was passed when a 1d array was expected. Please change the shape of y to (n_samples, ), for example using ravel().\n",
      "  return f(**kwargs)\n"
     ]
    },
    {
     "data": {
      "text/plain": [
       "SVC(random_state=0)"
      ]
     },
     "execution_count": 67,
     "metadata": {},
     "output_type": "execute_result"
    }
   ],
   "source": [
    "from sklearn.svm import SVC\n",
    "classifier =SVC(kernel='rbf' ,random_state=0)\n",
    "classifier.fit(X_train,y_train)"
   ]
  },
  {
   "cell_type": "code",
   "execution_count": 68,
   "metadata": {},
   "outputs": [
    {
     "name": "stdout",
     "output_type": "stream",
     "text": [
      "[[0 0]\n",
      " [1 1]\n",
      " [1 1]\n",
      " ...\n",
      " [0 0]\n",
      " [0 1]\n",
      " [0 0]]\n"
     ]
    }
   ],
   "source": [
    "y_pred=classifier.predict(X_train)\n",
    "y_pred=(y_pred>0.5)\n",
    "print(np.concatenate((y_pred.reshape(len(y_pred),1),y_train.reshape(len(y_train),1)),1))"
   ]
  },
  {
   "cell_type": "code",
   "execution_count": 69,
   "metadata": {},
   "outputs": [
    {
     "name": "stdout",
     "output_type": "stream",
     "text": [
      "0      0\n",
      "1      1\n",
      "2      0\n",
      "3      0\n",
      "4      1\n",
      "      ..\n",
      "413    0\n",
      "414    1\n",
      "415    0\n",
      "416    0\n",
      "417    0\n",
      "Name: Survived, Length: 418, dtype: int32\n"
     ]
    }
   ],
   "source": [
    "# test_Survived = pd.Series(votingC.predict(test), name=\"Survived\")\n",
    "\n",
    "y1=pd.Series(classifier.predict(X_test), name=\"Survived\")\n",
    "y1=(y1>0.5)\n",
    "y1=y1*1\n",
    "print(y1)"
   ]
  },
  {
   "cell_type": "code",
   "execution_count": 70,
   "metadata": {},
   "outputs": [
    {
     "name": "stdout",
     "output_type": "stream",
     "text": [
      "     PassengerId  Survived\n",
      "0            892         0\n",
      "1            893         1\n",
      "2            894         0\n",
      "3            895         0\n",
      "4            896         1\n",
      "..           ...       ...\n",
      "413         1305         0\n",
      "414         1306         1\n",
      "415         1307         0\n",
      "416         1308         0\n",
      "417         1309         0\n",
      "\n",
      "[418 rows x 2 columns]\n"
     ]
    }
   ],
   "source": [
    "# print(np.shape(y1))\n",
    "# print(np.all(y1,axis=1))\n",
    "\n",
    "results = pd.concat([IDtest,y1],axis=1)\n",
    "\n",
    "results.to_csv(\"final.csv\",index=False)\n",
    "print(results)"
   ]
  },
  {
   "cell_type": "code",
   "execution_count": 30,
   "metadata": {},
   "outputs": [
    {
     "ename": "TypeError",
     "evalue": "sequence item 0: expected str instance, numpy.bool_ found",
     "output_type": "error",
     "traceback": [
      "\u001b[1;31m---------------------------------------------------------------------------\u001b[0m",
      "\u001b[1;31mTypeError\u001b[0m                                 Traceback (most recent call last)",
      "\u001b[1;32m<ipython-input-30-a6ced6a0ec7d>\u001b[0m in \u001b[0;36m<module>\u001b[1;34m\u001b[0m\n\u001b[0;32m      6\u001b[0m \u001b[1;31m#      y1[i]='0'\u001b[0m\u001b[1;33m\u001b[0m\u001b[1;33m\u001b[0m\u001b[1;33m\u001b[0m\u001b[0m\n\u001b[0;32m      7\u001b[0m \u001b[1;33m\u001b[0m\u001b[0m\n\u001b[1;32m----> 8\u001b[1;33m \u001b[0mR\u001b[0m\u001b[1;33m=\u001b[0m\u001b[1;34m\"\\n\"\u001b[0m\u001b[1;33m.\u001b[0m\u001b[0mjoin\u001b[0m\u001b[1;33m(\u001b[0m\u001b[0my1\u001b[0m\u001b[1;33m)\u001b[0m\u001b[1;33m\u001b[0m\u001b[1;33m\u001b[0m\u001b[0m\n\u001b[0m\u001b[0;32m      9\u001b[0m \u001b[0mf\u001b[0m \u001b[1;33m=\u001b[0m \u001b[0mopen\u001b[0m\u001b[1;33m(\u001b[0m\u001b[1;34m'Columns.csv'\u001b[0m\u001b[1;33m,\u001b[0m\u001b[1;34m'w'\u001b[0m\u001b[1;33m)\u001b[0m\u001b[1;33m\u001b[0m\u001b[1;33m\u001b[0m\u001b[0m\n\u001b[0;32m     10\u001b[0m \u001b[0mf\u001b[0m\u001b[1;33m.\u001b[0m\u001b[0mwrite\u001b[0m\u001b[1;33m(\u001b[0m\u001b[0mR\u001b[0m\u001b[1;33m)\u001b[0m\u001b[1;33m\u001b[0m\u001b[1;33m\u001b[0m\u001b[0m\n",
      "\u001b[1;31mTypeError\u001b[0m: sequence item 0: expected str instance, numpy.bool_ found"
     ]
    }
   ],
   "source": []
  },
  {
   "cell_type": "code",
   "execution_count": null,
   "metadata": {},
   "outputs": [],
   "source": []
  }
 ],
 "metadata": {
  "colab": {
   "collapsed_sections": [],
   "name": "Untitled1.ipynb",
   "provenance": []
  },
  "kernelspec": {
   "display_name": "Python 3",
   "language": "python",
   "name": "python3"
  },
  "language_info": {
   "codemirror_mode": {
    "name": "ipython",
    "version": 3
   },
   "file_extension": ".py",
   "mimetype": "text/x-python",
   "name": "python",
   "nbconvert_exporter": "python",
   "pygments_lexer": "ipython3",
   "version": "3.8.5"
  }
 },
 "nbformat": 4,
 "nbformat_minor": 1
}
